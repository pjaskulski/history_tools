{
 "cells": [
  {
   "cell_type": "markdown",
   "metadata": {},
   "source": [
    "# Test biblioteki CLTK (The Classical Language Toolkit)\n",
    "Na przykładzie aktu *Incorporatio Ducatus Curlandiae et Semigalliae* (z 3 SIERPNIA 1569 roku). Tekst aktu \n",
    "za: Litwin Henryk, \"Unia Lubelska 1569 roku. Akty Prawne\", Instytut Polski w Kijowie, Kijów, 2019, str. 67-68."
   ]
  },
  {
   "cell_type": "code",
   "execution_count": 7,
   "metadata": {
    "ExecuteTime": {
     "end_time": "2021-08-03T06:44:55.228587Z",
     "start_time": "2021-08-03T06:44:55.224662Z"
    }
   },
   "outputs": [
    {
     "name": "stdout",
     "output_type": "stream",
     "text": [
      "cltk 1.0.17\n"
     ]
    }
   ],
   "source": [
    "#!pip install cltk \n",
    "import cltk\n",
    "print(cltk.__version__)"
   ]
  },
  {
   "cell_type": "code",
   "execution_count": 8,
   "metadata": {
    "ExecuteTime": {
     "end_time": "2021-08-03T06:45:13.873572Z",
     "start_time": "2021-08-03T06:45:13.868221Z"
    }
   },
   "outputs": [],
   "source": [
    "from cltk import NLP"
   ]
  },
  {
   "cell_type": "code",
   "execution_count": 37,
   "metadata": {
    "ExecuteTime": {
     "end_time": "2021-08-03T07:09:31.053580Z",
     "start_time": "2021-08-03T07:09:31.048222Z"
    },
    "scrolled": true
   },
   "outputs": [
    {
     "name": "stdout",
     "output_type": "stream",
     "text": [
      "‎𐤀 CLTK version '1.0.17'.\n",
      "Pipeline for language 'Latin' (ISO: 'lat'): `LatinNormalizeProcess`, `LatinStanzaProcess`, `LatinEmbeddingsProcess`, `StopsProcess`, `LatinNERProcess`, `LatinLexiconProcess`.\n"
     ]
    }
   ],
   "source": [
    "text = \"\"\"\n",
    "Incorporationem Ducatus Curlandiae et Semigalliae cum Regno Poloniae\n",
    "Lublini Anno 1569 factam.\n",
    "Sigismundus Augustus, Rex Poloniae, Magnus Dux Lithvaniae.\n",
    "Significamus praesentibus literis Nostris, quorum interest universis et\n",
    "singulis, quod cum illustris Dominus Gothardus in Livoniae, Curlandiae\n",
    "et Semigalliae Dux, generosos Fridericum a Kanitz et Michaelem a Brunow\n",
    "consiliarios et senatores suos ad Nos Regnique Nostri ordines cum certis\n",
    "mandatis ablegavisset, atque hi ipsi literis fidei suae plenipotentiae\n",
    "praedicti Domini Ducis demonstratis, id sibi ab Illustritate sua injunctum\n",
    "esse docerent, quo nomine Illustritatis suae a Nobis Regnique ordinibus\n",
    "postularent ac enixe peterent, ut quoniam negotium unionis Regni Nostri\n",
    "cum Magno Ducatu Lithuaniae ad salutem, finem, exitumque optatum\n",
    "jam pridem Deo immortali adjuvante, perduxissemus, tempus adesset,\n",
    "quo Livoniae quoque a barbaro et truculento hoste maiorem in modum\n",
    "populatae et affictae per Nos aliquando consuli possit, subiectionem\n",
    "illustris domini Ducis et subditorum de communi sententia atque assensu\n",
    "omnium ordinum Regni cum Ducatu Lithvaniae uniti acceptaremus.\n",
    "\"\"\"\n",
    "cltk_nlp = NLP(language=\"lat\")"
   ]
  },
  {
   "cell_type": "code",
   "execution_count": 32,
   "metadata": {
    "ExecuteTime": {
     "end_time": "2021-08-03T07:04:51.855061Z",
     "start_time": "2021-08-03T07:04:36.165957Z"
    }
   },
   "outputs": [],
   "source": [
    "INCORPORATIO = cltk_nlp.analyze(text=text)"
   ]
  },
  {
   "cell_type": "code",
   "execution_count": 35,
   "metadata": {
    "ExecuteTime": {
     "end_time": "2021-08-03T07:05:56.055147Z",
     "start_time": "2021-08-03T07:05:56.047197Z"
    }
   },
   "outputs": [
    {
     "name": "stdout",
     "output_type": "stream",
     "text": [
      "word:  senatores  -  NOUN  -  {Case: [accusative], Degree: [positive], Gender: [masculine], Number: [plural]}\n"
     ]
    }
   ],
   "source": [
    "print(\"word: \", INCORPORATIO.tokens[58],\" - \", INCORPORATIO.pos[58], \" - \", INCORPORATIO.morphosyntactic_features[58]) "
   ]
  },
  {
   "cell_type": "code",
   "execution_count": 36,
   "metadata": {
    "ExecuteTime": {
     "end_time": "2021-08-03T07:05:58.109561Z",
     "start_time": "2021-08-03T07:05:58.102367Z"
    }
   },
   "outputs": [
    {
     "name": "stdout",
     "output_type": "stream",
     "text": [
      "word:  Curlandiae  -  VERB  -  {Case: [genitive], Degree: [positive], Gender: [feminine], Number: [singular], VerbForm: [gerundive], Voice: [passive]}\n"
     ]
    }
   ],
   "source": [
    "print(\"word: \", INCORPORATIO.tokens[2],\" - \", INCORPORATIO.pos[2], \" - \", INCORPORATIO.morphosyntactic_features[2]) "
   ]
  },
  {
   "cell_type": "code",
   "execution_count": null,
   "metadata": {},
   "outputs": [],
   "source": []
  }
 ],
 "metadata": {
  "hide_input": false,
  "kernelspec": {
   "display_name": "Python 3",
   "language": "python",
   "name": "python3"
  },
  "language_info": {
   "codemirror_mode": {
    "name": "ipython",
    "version": 3
   },
   "file_extension": ".py",
   "mimetype": "text/x-python",
   "name": "python",
   "nbconvert_exporter": "python",
   "pygments_lexer": "ipython3",
   "version": "3.8.10"
  },
  "varInspector": {
   "cols": {
    "lenName": 16,
    "lenType": 16,
    "lenVar": 40
   },
   "kernels_config": {
    "python": {
     "delete_cmd_postfix": "",
     "delete_cmd_prefix": "del ",
     "library": "var_list.py",
     "varRefreshCmd": "print(var_dic_list())"
    },
    "r": {
     "delete_cmd_postfix": ") ",
     "delete_cmd_prefix": "rm(",
     "library": "var_list.r",
     "varRefreshCmd": "cat(var_dic_list()) "
    }
   },
   "types_to_exclude": [
    "module",
    "function",
    "builtin_function_or_method",
    "instance",
    "_Feature"
   ],
   "window_display": false
  }
 },
 "nbformat": 4,
 "nbformat_minor": 4
}
